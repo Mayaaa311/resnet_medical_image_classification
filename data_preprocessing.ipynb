{
 "cells": [
  {
   "cell_type": "code",
   "execution_count": 1,
   "id": "db4feae4-db74-4f7b-bace-d722248d3d5b",
   "metadata": {},
   "outputs": [],
   "source": [
    "import os\n",
    "import csv\n",
    "\n"
   ]
  },
  {
   "cell_type": "code",
   "execution_count": 5,
   "id": "644b0d56-fd27-4150-901d-1a5893a7165f",
   "metadata": {},
   "outputs": [],
   "source": [
    "import os\n",
    "import csv\n",
    "\n",
    "# Define the path to the root directory of the dataset\n",
    "root_dir = 'Medical_Image_Dataset'\n",
    "\n",
    "# Create a list to hold the image paths and their corresponding class IDs\n",
    "image_data = []\n",
    "class_to_id = {}\n",
    "class_id = 0\n",
    "\n"
   ]
  },
  {
   "cell_type": "code",
   "execution_count": 4,
   "id": "ea93f5a5-31fa-41f8-bf1b-73afd474501f",
   "metadata": {},
   "outputs": [],
   "source": [
    "# Walk through the directory\n",
    "for class_folder in os.listdir(root_dir):\n",
    "    class_path = os.path.join(root_dir, class_folder)\n",
    "    \n",
    "    # Ensure it's a directory\n",
    "    if os.path.isdir(class_path):\n",
    "        # Assign a new classID if this class has not been seen before\n",
    "        if class_folder not in class_to_id:\n",
    "            class_to_id[class_folder] = class_id\n",
    "            class_id += 1\n",
    "        \n",
    "        for image_name in os.listdir(class_path):\n",
    "            image_path = os.path.join(class_path, image_name)\n",
    "            \n",
    "            # Add the image path and classID to the list\n",
    "            image_data.append([image_path, class_to_id[class_folder]])\n"
   ]
  },
  {
   "cell_type": "code",
   "execution_count": null,
   "id": "d4a5696b-2642-4060-8137-c7840cc22fa0",
   "metadata": {},
   "outputs": [],
   "source": [
    "# Write the image data to a CSV file\n",
    "with open('dataset.csv', mode='w', newline='') as file:\n",
    "    writer = csv.writer(file)\n",
    "    writer.writerow(['imageID', 'classID'])  # Write header\n",
    "    writer.writerows(image_data)  # Write data\n",
    "\n",
    "# Write the classID to label mapping to another CSV file\n",
    "with open('label.csv', mode='w', newline='') as file:\n",
    "    writer = csv.writer(file)\n",
    "    writer.writerow(['classID', 'label'])  # Write header\n",
    "    for label, id_ in class_to_id.items():\n",
    "        writer.writerow([id_, label])"
   ]
  }
 ],
 "metadata": {
  "kernelspec": {
   "display_name": "Python 3 (ipykernel)",
   "language": "python",
   "name": "python3"
  },
  "language_info": {
   "codemirror_mode": {
    "name": "ipython",
    "version": 3
   },
   "file_extension": ".py",
   "mimetype": "text/x-python",
   "name": "python",
   "nbconvert_exporter": "python",
   "pygments_lexer": "ipython3",
   "version": "3.10.12"
  }
 },
 "nbformat": 4,
 "nbformat_minor": 5
}
